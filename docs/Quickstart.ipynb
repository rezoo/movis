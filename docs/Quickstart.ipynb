{
 "nbformat": 4,
 "nbformat_minor": 0,
 "metadata": {
  "colab": {
   "provenance": [],
   "authorship_tag": "ABX9TyNtFXo6hG4Sw/C3PcGJ1+df",
   "include_colab_link": true
  },
  "kernelspec": {
   "name": "python3",
   "display_name": "Python 3"
  },
  "language_info": {
   "name": "python"
  },
  "widgets": {
   "application/vnd.jupyter.widget-state+json": {
    "5c5b2a53a9934f71af33dbc0b4f3d690": {
     "model_module": "@jupyter-widgets/controls",
     "model_name": "VideoModel",
     "model_module_version": "1.5.0",
     "state": {
      "_dom_classes": [],
      "_model_module": "@jupyter-widgets/controls",
      "_model_module_version": "1.5.0",
      "_model_name": "VideoModel",
      "_view_count": null,
      "_view_module": "@jupyter-widgets/controls",
      "_view_module_version": "1.5.0",
      "_view_name": "VideoView",
      "autoplay": true,
      "controls": true,
      "format": "mp4",
      "height": "",
      "layout": "IPY_MODEL_a3d8d4cb9ed8491fa148367756ecaea6",
      "loop": true,
      "width": ""
     }
    },
    "a3d8d4cb9ed8491fa148367756ecaea6": {
     "model_module": "@jupyter-widgets/base",
     "model_name": "LayoutModel",
     "model_module_version": "1.2.0",
     "state": {
      "_model_module": "@jupyter-widgets/base",
      "_model_module_version": "1.2.0",
      "_model_name": "LayoutModel",
      "_view_count": null,
      "_view_module": "@jupyter-widgets/base",
      "_view_module_version": "1.2.0",
      "_view_name": "LayoutView",
      "align_content": null,
      "align_items": null,
      "align_self": null,
      "border": null,
      "bottom": null,
      "display": null,
      "flex": null,
      "flex_flow": null,
      "grid_area": null,
      "grid_auto_columns": null,
      "grid_auto_flow": null,
      "grid_auto_rows": null,
      "grid_column": null,
      "grid_gap": null,
      "grid_row": null,
      "grid_template_areas": null,
      "grid_template_columns": null,
      "grid_template_rows": null,
      "height": null,
      "justify_content": null,
      "justify_items": null,
      "left": null,
      "margin": null,
      "max_height": null,
      "max_width": null,
      "min_height": null,
      "min_width": null,
      "object_fit": null,
      "object_position": null,
      "order": null,
      "overflow": null,
      "overflow_x": null,
      "overflow_y": null,
      "padding": null,
      "right": null,
      "top": null,
      "visibility": null,
      "width": null
     }
    },
    "0c000c9d1de342d6b01c3e485e4f5fb5": {
     "model_module": "@jupyter-widgets/controls",
     "model_name": "VideoModel",
     "model_module_version": "1.5.0",
     "state": {
      "_dom_classes": [],
      "_model_module": "@jupyter-widgets/controls",
      "_model_module_version": "1.5.0",
      "_model_name": "VideoModel",
      "_view_count": null,
      "_view_module": "@jupyter-widgets/controls",
      "_view_module_version": "1.5.0",
      "_view_name": "VideoView",
      "autoplay": true,
      "controls": true,
      "format": "mp4",
      "height": "",
      "layout": "IPY_MODEL_66537f57b7fb45289c8c24616c35258a",
      "loop": true,
      "width": ""
     }
    },
    "66537f57b7fb45289c8c24616c35258a": {
     "model_module": "@jupyter-widgets/base",
     "model_name": "LayoutModel",
     "model_module_version": "1.2.0",
     "state": {
      "_model_module": "@jupyter-widgets/base",
      "_model_module_version": "1.2.0",
      "_model_name": "LayoutModel",
      "_view_count": null,
      "_view_module": "@jupyter-widgets/base",
      "_view_module_version": "1.2.0",
      "_view_name": "LayoutView",
      "align_content": null,
      "align_items": null,
      "align_self": null,
      "border": null,
      "bottom": null,
      "display": null,
      "flex": null,
      "flex_flow": null,
      "grid_area": null,
      "grid_auto_columns": null,
      "grid_auto_flow": null,
      "grid_auto_rows": null,
      "grid_column": null,
      "grid_gap": null,
      "grid_row": null,
      "grid_template_areas": null,
      "grid_template_columns": null,
      "grid_template_rows": null,
      "height": null,
      "justify_content": null,
      "justify_items": null,
      "left": null,
      "margin": null,
      "max_height": null,
      "max_width": null,
      "min_height": null,
      "min_width": null,
      "object_fit": null,
      "object_position": null,
      "order": null,
      "overflow": null,
      "overflow_x": null,
      "overflow_y": null,
      "padding": null,
      "right": null,
      "top": null,
      "visibility": null,
      "width": null
     }
    }
   }
  }
 },
 "cells": [
  {
   "cell_type": "markdown",
   "metadata": {
    "id": "view-in-github",
    "colab_type": "text"
   },
   "source": [
    "<a href=\"https://colab.research.google.com/github/rezoo/movis/blob/colab/Quickstart.ipynb\" target=\"_parent\"><img src=\"https://colab.research.google.com/assets/colab-badge.svg\" alt=\"Open In Colab\"/></a>"
   ]
  },
  {
   "cell_type": "markdown",
   "source": [
    "# Movis: Video Editing as a Code\n",
    "\n",
    "This Jupyter notebook goes through the basic usage of Movis.\n",
    "\n",
    "- Install Movis\n",
    "- Write a simple python script that generates a video with a background and a text\n",
    "- Write a bit practical python script that concatenates a title logo and a video"
   ],
   "metadata": {
    "id": "KUZwAl1tKaCY"
   }
  },
  {
   "cell_type": "markdown",
   "source": [
    "### Install movis"
   ],
   "metadata": {
    "id": "H8YO_ivU58wl"
   }
  },
  {
   "cell_type": "code",
   "source": [
    "pip install git+https://github.com/rezoo/movis.git"
   ],
   "metadata": {
    "colab": {
     "base_uri": "https://localhost:8080/"
    },
    "id": "XFJvOeGzKZon",
    "outputId": "69558c92-e021-4045-8ced-b577e02a19ae"
   },
   "execution_count": 1,
   "outputs": []
  },
  {
   "cell_type": "code",
   "source": [
    "import os\n",
    "\n",
    "import movis as mv\n",
    "from PIL import Image\n",
    "\n",
    "# It has been found that errors occur when using PySide only on Google colab.\n",
    "# To avoid this, we explicitly set an environment variable.\n",
    "os.environ['QT_QPA_PLATFORM'] = 'offscreen'"
   ],
   "metadata": {
    "id": "PgXPfQtuK1sw"
   },
   "execution_count": 2,
   "outputs": []
  },
  {
   "cell_type": "markdown",
   "source": [
    "Now let's make a simple video."
   ],
   "metadata": {
    "id": "PXuMaGwz6sCb"
   }
  },
  {
   "cell_type": "code",
   "source": [
    "w, h = 960, 540\n",
    "\n",
    "title = mv.layer.Composition(size=(w, h), duration=4.0)\n",
    "\n",
    "title.add_layer(mv.layer.Rectangle(title.size, color='seagreen'), 'bg')\n",
    "title.add_layer(\n",
    "    mv.layer.Text('Big Buck Bunny', font_size=60.0, font_family='Liberation Sans', color='#ffffff'),\n",
    "    name='title',\n",
    "    position=(w / 2, h / 2))\n",
    "title.add_layer(\n",
    "    mv.layer.Text('By Blender Foundation', font_size=20.0, font_family='Liberation Sans', color='#ffffff'),\n",
    "    name='subtitle',\n",
    "    position=(w / 2, h / 2 + 50))"
   ],
   "metadata": {
    "colab": {
     "base_uri": "https://localhost:8080/"
    },
    "id": "EyUiPVE_K4z6",
    "outputId": "6aa3209f-066a-48dd-f3a6-5d8c615d4475"
   },
   "execution_count": 3,
   "outputs": []
  },
  {
   "cell_type": "markdown",
   "source": [
    "By converting an ``ndarray`` to a ``PIL.Image``, you can view the image directly in the Notebook. In this case, we are outputting a still image at the ``0.0`` second."
   ],
   "metadata": {
    "id": "jX5Hzrst64QN"
   }
  },
  {
   "cell_type": "code",
   "source": [
    "Image.fromarray(title(0.0))"
   ],
   "metadata": {
    "colab": {
     "base_uri": "https://localhost:8080/",
     "height": 557
    },
    "id": "PHhl122GLgtN",
    "outputId": "54c156cd-800d-49b4-dac3-cfbef281448a"
   },
   "execution_count": 4,
   "outputs": []
  },
  {
   "cell_type": "markdown",
   "source": [
    "Let's try adding an animation. The target layer includes common attributes such as position, scale, and opacity. By adding keyframes to these attributes, you can animate them."
   ],
   "metadata": {
    "id": "SNUV7ENi8eGN"
   }
  },
  {
   "cell_type": "code",
   "source": [
    "# Easings define the easing between keyframes. \"ease_out{N}\" refers to an ease-out animation.\n",
    "# The larger the value of N, the more abrupt the animation transition will be.\n",
    "title['title'].scale.enable_motion().extend(\n",
    "    keyframes=[0.0, 1.5],\n",
    "    values=[0.0, 1.0],\n",
    "    easings=['ease_out8'],\n",
    ")\n",
    "title['title'].opacity.enable_motion().extend(\n",
    "    keyframes=[0.0, 1.5],\n",
    "    values=[0.0, 1.0],\n",
    ")\n",
    "\n",
    "p = title['subtitle'].position.init_value\n",
    "title['subtitle'].position.enable_motion().extend(\n",
    "    keyframes=[0.5, 1.5],\n",
    "    values=[(p[0], p[1] + 10), p],\n",
    "    easings=['ease_out8']\n",
    ")\n",
    "title['subtitle'].opacity.enable_motion().extend(\n",
    "    keyframes=[0.5, 1.5],\n",
    "    values=[0.0, 1.0]\n",
    ")"
   ],
   "metadata": {
    "colab": {
     "base_uri": "https://localhost:8080/"
    },
    "id": "4h4wOuHeV50r",
    "outputId": "fd79823e-a15b-4066-c115-99ab4023fce2"
   },
   "execution_count": 5,
   "outputs": []
  },
  {
   "cell_type": "markdown",
   "source": [
    "For a preview on IPython Notebook, use `render_and_play()`. The `preview_level` defines the resolution of the output video. For instance, if `preview_level=2`, the resolution will be halved."
   ],
   "metadata": {
    "id": "dRTm61XHBOYQ"
   }
  },
  {
   "cell_type": "code",
   "source": [
    "title.render_and_play(preview_level=1)"
   ],
   "metadata": {
    "colab": {
     "base_uri": "https://localhost:8080/",
     "height": 582,
     "referenced_widgets": [
      "5c5b2a53a9934f71af33dbc0b4f3d690",
      "a3d8d4cb9ed8491fa148367756ecaea6"
     ]
    },
    "id": "nG6hb7SIMNFI",
    "outputId": "e4147f25-5b4d-451a-ff3e-c603dd448974"
   },
   "execution_count": 6,
   "outputs": []
  },
  {
   "cell_type": "markdown",
   "source": [
    "It does not look bad.\n",
    "\n",
    "Next, download the video itself. Let's use the video provided by Blender foundation."
   ],
   "metadata": {
    "id": "wlqCM0B16Jv9"
   }
  },
  {
   "cell_type": "code",
   "source": [
    "!curl -O https://commondatastorage.googleapis.com/gtv-videos-bucket/sample/BigBuckBunny.mp4"
   ],
   "metadata": {
    "colab": {
     "base_uri": "https://localhost:8080/"
    },
    "id": "HFF07VXICTB0",
    "outputId": "1170dee8-6372-4f29-ca98-080cc52e2d2c"
   },
   "execution_count": 7,
   "outputs": []
  },
  {
   "cell_type": "code",
   "source": [
    "video = mv.layer.Video('./BigBuckBunny.mp4')"
   ],
   "metadata": {
    "id": "xWfaJHBICUTW"
   },
   "execution_count": 8,
   "outputs": []
  },
  {
   "cell_type": "markdown",
   "source": [
    "For example, if you want to see a picture of the video layer after 10 seconds, you can simply use the following:"
   ],
   "metadata": {
    "id": "_Lkw9Xzz33SD"
   }
  },
  {
   "cell_type": "code",
   "source": [
    "frame = video(10.0)\n",
    "Image.fromarray(frame)"
   ],
   "metadata": {
    "colab": {
     "base_uri": "https://localhost:8080/",
     "height": 737
    },
    "id": "RdoINeDdCYMP",
    "outputId": "ed44ba9b-c46d-4ffe-f478-e121e1b441be"
   },
   "execution_count": 9,
   "outputs": []
  },
  {
   "cell_type": "markdown",
   "source": [
    "In this case, the resolution of the video is relatively small, so it must be scaled down by a reasonable value."
   ],
   "metadata": {
    "id": "wcenNHD74SNI"
   }
  },
  {
   "cell_type": "code",
   "source": [
    "scale = w / frame.shape[1]\n",
    "\n",
    "scene = mv.layer.Composition(size=(w, h), duration=15.0)\n",
    "scene.add_layer(\n",
    "    video, name='content', scale=scale)"
   ],
   "metadata": {
    "colab": {
     "base_uri": "https://localhost:8080/"
    },
    "id": "BBWH6eXWCx8b",
    "outputId": "44158e2f-88b3-4b98-879d-1596c053b8fb"
   },
   "execution_count": 10,
   "outputs": []
  },
  {
   "cell_type": "code",
   "source": [
    "Image.fromarray(scene(10.0))"
   ],
   "metadata": {
    "colab": {
     "base_uri": "https://localhost:8080/",
     "height": 557
    },
    "id": "9i_0T_x5DrYA",
    "outputId": "90b221f3-acdc-44af-f096-8a988ee23404"
   },
   "execution_count": 11,
   "outputs": []
  },
  {
   "cell_type": "markdown",
   "source": [
    "It appears to have been scaled down correctly.\n",
    "\n",
    "Next, composite the title and the body of the video. For simplicify, in this case we will create a video that is only 15 seconds long."
   ],
   "metadata": {
    "id": "u58R9jPX64Eo"
   }
  },
  {
   "cell_type": "code",
   "source": [
    "scene = mv.layer.Composition(size=(w, h), duration=15.0)\n",
    "scene.add_layer(video, name='content', scale=scale, offset=4.0)\n",
    "scene.add_layer(title, name='title')\n",
    "\n",
    "p = scene['title'].position.init_value\n",
    "scene['title'].position.enable_motion().extend(\n",
    "    keyframes=[3.0, 4.0], values=[p, (p[0] + w, p[1])], easings=['ease_in8']\n",
    ")\n",
    "scene.render_and_play(preview_level=2)"
   ],
   "metadata": {
    "id": "krUd7UtHDsHZ",
    "colab": {
     "base_uri": "https://localhost:8080/",
     "height": 312,
     "referenced_widgets": [
      "0c000c9d1de342d6b01c3e485e4f5fb5",
      "66537f57b7fb45289c8c24616c35258a"
     ]
    },
    "outputId": "adb38136-790a-417a-8569-b74fc1da041d"
   },
   "execution_count": 12,
   "outputs": []
  },
  {
   "cell_type": "markdown",
   "source": [
    "Looks good. Finally, we output these videos using `scene.write_video()`.\n",
    "\n",
    "Note here that we explicitly specify `audio=True` to include audio in the videos (movis does not output audio by default)"
   ],
   "metadata": {
    "id": "eb-0Tc2O775W"
   }
  },
  {
   "cell_type": "code",
   "source": [
    "scene.write_video('output.mp4', audio=True)"
   ],
   "metadata": {
    "colab": {
     "base_uri": "https://localhost:8080/"
    },
    "id": "s7vz5DW847sz",
    "outputId": "af28456d-e114-4dd0-dda3-6c660cd98a6d"
   },
   "execution_count": 13,
   "outputs": []
  },
  {
   "cell_type": "markdown",
   "source": [
    "Movis can create more sophisticated animations in videos by using a variety of compositions and effects. For more details, please refer to the [Examples on GitHub](https://github.com/rezoo/movis/tree/main/examples)."
   ],
   "metadata": {
    "id": "r2mkY-Q58l0L"
   }
  },
  {
   "cell_type": "code",
   "source": [],
   "metadata": {
    "id": "4HgCI4SW90HI"
   },
   "execution_count": 13,
   "outputs": []
  }
 ]
}
